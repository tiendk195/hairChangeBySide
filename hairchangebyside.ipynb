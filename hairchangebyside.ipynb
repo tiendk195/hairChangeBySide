{
  "nbformat": 4,
  "nbformat_minor": 0,
  "metadata": {
    "colab": {
      "provenance": [],
      "gpuType": "T4",
      "authorship_tag": "ABX9TyOBEyHyQP6JwwLvDQY52rTT",
      "include_colab_link": true
    },
    "kernelspec": {
      "name": "python3",
      "display_name": "Python 3"
    },
    "language_info": {
      "name": "python"
    },
    "accelerator": "GPU"
  },
  "cells": [
    {
      "cell_type": "markdown",
      "metadata": {
        "id": "view-in-github",
        "colab_type": "text"
      },
      "source": [
        "<a href=\"https://colab.research.google.com/github/tiendk195/hairChangeBySide/blob/master/hairchangebyside.ipynb\" target=\"_parent\"><img src=\"https://colab.research.google.com/assets/colab-badge.svg\" alt=\"Open In Colab\"/></a>"
      ]
    },
    {
      "cell_type": "markdown",
      "source": [
        "\n",
        "---\n",
        "\n",
        "🌟 **Ứng dụng thay đổi mẫu tóc với HairFastGAN**\n",
        "\n",
        "🔗 **[Repository GitHub](https://github.com/AIRI-Institute/HairFastGAN)**\n",
        "\n",
        "Ứng dụng này cho phép bạn thay đổi mẫu tóc dựa trên model HairFastGAN, giúp bạn có thể tự do tùy chỉnh mẫu tóc và màu tóc phù hợp với khuôn mặt của bạn.\n",
        "\n",
        "Trước khi bắt đầu, hãy sao chép Colab về driver của bạn để có thể tự do chỉnh sửa:\n",
        "\n",
        "```\n",
        "File -> Save a copy to Drive\n",
        "```\n",
        "\n",
        "Để bắt đầu, bạn có thể tải lên các hình ảnh của mình cho khuôn mặt, mẫu tóc, và màu tóc. Sau đó, sử dụng ứng dụng để thực hiện chuyển đổi và xem kết quả.\n",
        "\n",
        "**Lưu ý:** Vui lòng kiểm tra các hướng dẫn trong notebook để đảm bảo rằng bạn đã tuân thủ đúng quy trình và cài đặt cần thiết trước khi sử dụng ứng dụng.\n",
        "\n",
        "🎨 **Hướng dẫn:**\n",
        "\n",
        "1. Sao chép Colab về driver của bạn.\n",
        "2. Tải lên các hình ảnh của bạn cho khuôn mặt, mẫu tóc, và màu tóc.\n",
        "3. Chạy các ô mã để thực hiện chuyển đổi.\n",
        "4. Xem kết quả và tùy chỉnh theo ý muốn.\n",
        "\n"
      ],
      "metadata": {
        "id": "usNPr6U2KuZP"
      }
    },
    {
      "cell_type": "code",
      "source": [
        "# @title 1. 📄 **Sao chép dự án từ github repo**\n",
        "# @markdown 👈Nhấn nút này để clone (~1 phút)\n",
        "# Clone git repo\n",
        "!git clone https://github.com/AIRI-Institute/HairFastGAN\n",
        "%cd HairFastGAN"
      ],
      "metadata": {
        "cellView": "form",
        "id": "Mi36_DF29Pvw"
      },
      "execution_count": null,
      "outputs": []
    },
    {
      "cell_type": "code",
      "source": [
        "# @title 2. ⚙️ **Tải và cài đặt Ninja package**\n",
        "# @markdown 👈Nhấn nút này để setup (~1 phút)\n",
        "# Install ninja - small build system to run C++, C\n",
        "# Install Ninja - small build system https://github.com/ninja-build/ninja\n",
        "!wget https://github.com/ninja-build/ninja/releases/download/v1.8.2/ninja-linux.zip\n",
        "!sudo unzip ninja-linux.zip -d /usr/local/bin/\n",
        "!sudo update-alternatives --install /usr/bin/ninja ninja /usr/local/bin/ninja 1 --force"
      ],
      "metadata": {
        "cellView": "form",
        "id": "v2Sy-8KS9ecg"
      },
      "execution_count": null,
      "outputs": []
    },
    {
      "cell_type": "code",
      "source": [
        "# @title 3. ⚙️ **Tải các gói thư viện cần thiết**\n",
        "# @markdown 👈Nhấn nút này để install (~5 phút)\n",
        "# Install lib\n",
        "!pip install pyngrok torchvision streamlit pillow==10.0.0 face_alignment dill==0.2.7.1 addict fpie git+https://github.com/openai/CLIP.git -q\n"
      ],
      "metadata": {
        "cellView": "form",
        "id": "EJSQwqBK9iUK"
      },
      "execution_count": null,
      "outputs": []
    },
    {
      "cell_type": "code",
      "source": [
        "# @title 4. 📄 **Sao chép model**\n",
        "# @markdown 👈Nhấn nút này để clone (~3 phút)\n",
        "# Download pretrain\n",
        "!git clone https://huggingface.co/AIRI-Institute/HairFastGAN\n",
        "!cd HairFastGAN && git lfs pull && cd ..\n",
        "!mv HairFastGAN/pretrained_models pretrained_models\n",
        "!mv HairFastGAN/input input\n",
        "!rm -rf HairFastGAN"
      ],
      "metadata": {
        "cellView": "form",
        "id": "kXhKQ9P69nm4"
      },
      "execution_count": null,
      "outputs": []
    },
    {
      "cell_type": "code",
      "source": [
        "# @title 5. ✍ **Khai báo các thư viện**\n",
        "# @markdown 👈Nhấn nút này để install (~1 phút)\n",
        "# Khai báo các thư viện\n",
        "from pathlib import Path\n",
        "from hair_swap import HairFast, get_parser\n",
        "\n",
        "import matplotlib.pyplot as plt\n",
        "import matplotlib.gridspec as gridspec\n",
        "import torchvision.transforms as T\n",
        "import torch"
      ],
      "metadata": {
        "cellView": "form",
        "id": "4qWkee3l9xNV"
      },
      "execution_count": null,
      "outputs": []
    },
    {
      "cell_type": "code",
      "source": [
        "# @title 6. 🕐 **Khởi tạo model để test**\n",
        "# @markdown 👈Nhấn nút này để install (~1 phút)\n",
        "# Khởi tạo model để test\n",
        "model_args = get_parser()\n",
        "hair_fast = HairFast(model_args.parse_args([]))"
      ],
      "metadata": {
        "colab": {
          "base_uri": "https://localhost:8080/"
        },
        "cellView": "form",
        "id": "SvhxmtO79zez",
        "outputId": "8911a4c3-8256-4fbc-b122-2a23c58a0603"
      },
      "execution_count": null,
      "outputs": [
        {
          "output_type": "stream",
          "name": "stdout",
          "text": [
            "Loading StyleGAN2 from checkpoint: pretrained_models/StyleGAN/ffhq.pt\n",
            "Loading e4e over the pSp framework from checkpoint: pretrained_models/encoder4editing/e4e_ffhq_encode.pt\n",
            "Network [SPADEGenerator] was created. Total number of parameters: 266.9 million. To see the architecture, do print(network).\n"
          ]
        }
      ]
    },
    {
      "cell_type": "code",
      "source": [
        "# @title 7. ⚙️ **Code chức năng**\n",
        "# @markdown 👈Nhấn nút này để install (~1 phút)\n",
        "# Display function\n",
        "def display_images(images=None, **kwargs):\n",
        "    is_titles = images is None\n",
        "    images = images or kwargs\n",
        "\n",
        "    grid = gridspec.GridSpec(1, len(images))\n",
        "    fig = plt.figure(figsize=(20, 10))\n",
        "\n",
        "    for i, item in enumerate(images.items() if is_titles else images):\n",
        "        title, img = item if is_titles else (None, item)\n",
        "\n",
        "        img = T.functional.to_pil_image(img) if isinstance(img, torch.Tensor) else img\n",
        "        img = Image.open(img) if isinstance(img, str | Path) else img\n",
        "\n",
        "        ax = fig.add_subplot(1, len(images), i+1)\n",
        "        ax.imshow(img)\n",
        "        if title:\n",
        "            ax.set_title(title, fontsize=20)\n",
        "        ax.axis('off')\n",
        "\n",
        "    plt.show()"
      ],
      "metadata": {
        "cellView": "form",
        "id": "AbFFrKxJ92sx"
      },
      "execution_count": null,
      "outputs": []
    },
    {
      "cell_type": "code",
      "source": [
        "# @title 8. 🔼 **Upload ảnh của bạn**\n",
        "# @markdown 👈Nhấn nút này để upload (~1 phút)\n",
        "\n",
        "# @markdown Ảnh của bạn sau khi tải xong sẽ được lưu vào folder 'HairFastGAN/input'\n",
        "from ipywidgets import FileUpload\n",
        "import os\n",
        "\n",
        "input_dir = '/content/HairFastGAN/input'\n",
        "if not os.path.exists(input_dir):\n",
        "    os.makedirs(input_dir)\n",
        "\n",
        "def handle_upload(change):\n",
        "    uploaded_file = list(upload_button.value.keys())[0]\n",
        "    content = upload_button.value[uploaded_file]['content']\n",
        "    with open(f'{input_dir}/{uploaded_file}', 'wb') as f:\n",
        "        f.write(content)\n",
        "    print(f\"Đã lưu file {uploaded_file} vào thư mục {input_dir}\")\n",
        "\n",
        "upload_button = FileUpload(description=\"Tải ảnh lên\")\n",
        "upload_button.observe(handle_upload, names='value')\n",
        "display(upload_button)\n"
      ],
      "metadata": {
        "cellView": "form",
        "id": "_rAfxV8tHm7Q"
      },
      "execution_count": null,
      "outputs": []
    },
    {
      "cell_type": "code",
      "source": [
        "# @title 9. ✅ **Custom hình ảnh kết quả**\n",
        "# @markdown 👈Nhấn nút này để install (~1 phút)\n",
        "input_dir = Path(\"/content/HairFastGAN/input\")\n",
        "\n",
        "# @markdown Thay các biến 'face_path/shape_path/color_path thành các ảnh bạn mong muốn'\n",
        "face_path = input_dir / '8.png'\n",
        "shape_path = input_dir / '1.png'\n",
        "color_path = input_dir / '2.png'\n",
        "\n",
        "final_image, face_align, shape_align, color_align = hair_fast.swap(face_path,shape_path,color_path, align=True)\n",
        "\n",
        "%matplotlib inline\n",
        "display_images(final_result=final_image, input_face=face_align, hair_shape=shape_align, hair_color=color_align)"
      ],
      "metadata": {
        "cellView": "form",
        "id": "7KXkzYEG95nU"
      },
      "execution_count": null,
      "outputs": []
    },
    {
      "cell_type": "markdown",
      "source": [
        "**Advanced**\n",
        "\n",
        "Khởi chạy app trên nền tảng streamlit"
      ],
      "metadata": {
        "id": "ilv38hyEJGPk"
      }
    },
    {
      "cell_type": "code",
      "source": [
        "# @title 10. ⚙️ **Download streamlit runtime**\n",
        "# @markdown 👈Nhấn nút này để install (~3 phút)\n",
        "# Run app.py by streamlit\n",
        "!streamlit run app.py&>/dev/null&\n",
        "!pgrep streamlit"
      ],
      "metadata": {
        "id": "XANKGsmXvW8l",
        "cellView": "form"
      },
      "execution_count": null,
      "outputs": []
    },
    {
      "cell_type": "code",
      "source": [
        "# @title 11. ⚙️ **Set up ngrok server authtoken**\n",
        "# @markdown 👈Nhấn nút này để install (~1 phút)\n",
        "\n",
        "# @markdown Truy cập vào https://dashboard.ngrok.com tạo account sau đó get được token\n",
        "# Expose by grok\n",
        "!ngrok authtoken <>"
      ],
      "metadata": {
        "id": "OvzwaU06vpyB",
        "cellView": "form"
      },
      "execution_count": null,
      "outputs": []
    },
    {
      "cell_type": "code",
      "source": [
        "# @title 12. ⚙️ **Chạy ngrok server**\n",
        "# @markdown 👈Nhấn nút này để install (~1 phút)\n",
        "\n",
        "# @markdown Sau khi chạy truy cập vào mục endpoint của ngrok sẽ có url dẫn đến website, nếu không render được thì do đầy tài nguyên hãy reset lại\n",
        "!ngrok http 8501"
      ],
      "metadata": {
        "id": "_wlQZRH4wVzp",
        "cellView": "form"
      },
      "execution_count": null,
      "outputs": []
    }
  ]
}